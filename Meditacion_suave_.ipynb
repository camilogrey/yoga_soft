{
  "nbformat": 4,
  "nbformat_minor": 0,
  "metadata": {
    "colab": {
      "provenance": [],
      "authorship_tag": "ABX9TyM50Wil2WrePPkIKgAvO2aA",
      "include_colab_link": true
    },
    "kernelspec": {
      "name": "python3",
      "display_name": "Python 3"
    },
    "language_info": {
      "name": "python"
    }
  },
  "cells": [
    {
      "cell_type": "markdown",
      "metadata": {
        "id": "view-in-github",
        "colab_type": "text"
      },
      "source": [
        "<a href=\"https://colab.research.google.com/github/camilogrey/yoga_soft/blob/main/Meditacion_suave_.ipynb\" target=\"_parent\"><img src=\"https://colab.research.google.com/assets/colab-badge.svg\" alt=\"Open In Colab\"/></a>"
      ]
    },
    {
      "cell_type": "code",
      "execution_count": 1,
      "metadata": {
        "colab": {
          "base_uri": "https://localhost:8080/",
          "height": 383
        },
        "id": "VpP-m2Qg8exj",
        "outputId": "8bf5c504-c948-47d9-f941-3c6ec2098391"
      },
      "outputs": [
        {
          "output_type": "error",
          "ename": "ModuleNotFoundError",
          "evalue": "No module named 'gtts'",
          "traceback": [
            "\u001b[0;31m---------------------------------------------------------------------------\u001b[0m",
            "\u001b[0;31mModuleNotFoundError\u001b[0m                       Traceback (most recent call last)",
            "\u001b[0;32m<ipython-input-1-f56e388447c4>\u001b[0m in \u001b[0;36m<cell line: 0>\u001b[0;34m()\u001b[0m\n\u001b[0;32m----> 1\u001b[0;31m \u001b[0;32mfrom\u001b[0m \u001b[0mgtts\u001b[0m \u001b[0;32mimport\u001b[0m \u001b[0mgTTS\u001b[0m\u001b[0;34m\u001b[0m\u001b[0;34m\u001b[0m\u001b[0m\n\u001b[0m\u001b[1;32m      2\u001b[0m \u001b[0;32mfrom\u001b[0m \u001b[0mpydub\u001b[0m \u001b[0;32mimport\u001b[0m \u001b[0mAudioSegment\u001b[0m\u001b[0;34m\u001b[0m\u001b[0;34m\u001b[0m\u001b[0m\n\u001b[1;32m      3\u001b[0m \u001b[0;32mfrom\u001b[0m \u001b[0mpydub\u001b[0m\u001b[0;34m.\u001b[0m\u001b[0mplayback\u001b[0m \u001b[0;32mimport\u001b[0m \u001b[0mplay\u001b[0m\u001b[0;34m\u001b[0m\u001b[0;34m\u001b[0m\u001b[0m\n\u001b[1;32m      4\u001b[0m \u001b[0;34m\u001b[0m\u001b[0m\n\u001b[1;32m      5\u001b[0m \u001b[0;31m# Texto para el audio de meditación guiada\u001b[0m\u001b[0;34m\u001b[0m\u001b[0;34m\u001b[0m\u001b[0m\n",
            "\u001b[0;31mModuleNotFoundError\u001b[0m: No module named 'gtts'",
            "",
            "\u001b[0;31m---------------------------------------------------------------------------\u001b[0;32m\nNOTE: If your import is failing due to a missing package, you can\nmanually install dependencies using either !pip or !apt.\n\nTo view examples of installing some common dependencies, click the\n\"Open Examples\" button below.\n\u001b[0;31m---------------------------------------------------------------------------\u001b[0m\n"
          ],
          "errorDetails": {
            "actions": [
              {
                "action": "open_url",
                "actionText": "Open Examples",
                "url": "/notebooks/snippets/importing_libraries.ipynb"
              }
            ]
          }
        }
      ],
      "source": [
        "from gtts import gTTS\n",
        "from pydub import AudioSegment\n",
        "from pydub.playback import play\n",
        "\n",
        "# Texto para el audio de meditación guiada\n",
        "meditation_script = \"\"\"\n",
        "Bienvenido a tu espacio de pausa y reconexión.\n",
        "Hoy haremos una práctica de 10 minutos para liberar tensiones del cuerpo y mente.\n",
        "\n",
        "Comenzá sentándote cómodo o acostándote.\n",
        "Cerrá suavemente los ojos.\n",
        "Tomá una respiración profunda... inhalá por la nariz... y exhalá por la boca.\n",
        "Una vez más, inhalá... y exhalá.\n",
        "\n",
        "Ahora, llevá tu atención a tu cabeza.\n",
        "Relajá tu frente... soltá la mandíbula... sentí como se suavizan tus facciones.\n",
        "Con cada exhalación, imaginá que derretís cualquier tensión.\n",
        "\n",
        "Bajamos la atención a tu cuello y hombros.\n",
        "Soltá el peso de los hombros.\n",
        "Dejá que se derrumben hacia abajo, sin esfuerzo.\n",
        "Inhalá... y al exhalar, soltá un poco más.\n",
        "\n",
        "Ahora, el pecho y el abdomen.\n",
        "Sentí como con cada respiración, se aflojan.\n",
        "No tenés que controlar nada, simplemente permitir.\n",
        "\n",
        "Bajamos la atención a tus piernas.\n",
        "Tus rodillas, tus pies.\n",
        "Sentí el contacto con el suelo.\n",
        "Dejá que todo el peso se entregue a la tierra.\n",
        "\n",
        "Ahora visualizá una luz tibia que recorre todo tu cuerpo,\n",
        "desde la cabeza hasta los pies,\n",
        "limpiando, sanando, liberando toda tensión.\n",
        "\n",
        "Quédate respirando en este estado unos momentos.\n",
        "Simplemente ser... sin apuro.\n",
        "\n",
        "Cuando sientas que es el momento,\n",
        "empezá a mover suavemente los dedos de las manos y los pies.\n",
        "Tomá una última inhalación profunda...\n",
        "y abrí los ojos lentamente.\n",
        "\n",
        "Bienvenido de nuevo.\n",
        "Esta calma está siempre disponible para vos.\n",
        "\"\"\"\n",
        "\n",
        "# Crear el archivo de audio\n",
        "tts = gTTS(text=meditation_script, lang='es', slow=False)\n",
        "audio_path = '/mnt/data/meditacion_guiada.mp3'\n",
        "tts.save(audio_path)\n",
        "\n",
        "audio_path"
      ]
    }
  ]
}